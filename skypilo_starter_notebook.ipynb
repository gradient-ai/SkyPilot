{
 "cells": [
  {
   "cell_type": "code",
   "execution_count": 1,
   "id": "c3c7e11f-3fbb-4ad2-93c4-2c83f2824a40",
   "metadata": {
    "execution": {
     "iopub.execute_input": "2024-04-11T14:03:34.784813Z",
     "iopub.status.busy": "2024-04-11T14:03:34.784212Z",
     "iopub.status.idle": "2024-04-11T14:03:40.005654Z",
     "shell.execute_reply": "2024-04-11T14:03:40.004983Z",
     "shell.execute_reply.started": "2024-04-11T14:03:34.784790Z"
    }
   },
   "outputs": [
    {
     "name": "stdout",
     "output_type": "stream",
     "text": [
      "Collecting skypilot-nightly[paperspace]\n",
      "  Downloading skypilot_nightly-1.0.0.dev20240411-py3-none-any.whl (897 kB)\n",
      "\u001b[2K     \u001b[90m━━━━━━━━━━━━━━━━━━━━━━━━━━━━━━━━━━━━━━\u001b[0m \u001b[32m897.5/897.5 kB\u001b[0m \u001b[31m59.3 MB/s\u001b[0m eta \u001b[36m0:00:00\u001b[0m\n",
      "\u001b[?25hRequirement already satisfied: click>=7.0 in /usr/local/lib/python3.9/dist-packages (from skypilot-nightly[paperspace]) (8.1.3)\n",
      "Collecting PrettyTable>=2.0.0\n",
      "  Downloading prettytable-3.10.0-py3-none-any.whl (28 kB)\n",
      "Requirement already satisfied: psutil in /usr/local/lib/python3.9/dist-packages (from skypilot-nightly[paperspace]) (5.9.4)\n",
      "Collecting pulp\n",
      "  Downloading PuLP-2.8.0-py3-none-any.whl (17.7 MB)\n",
      "\u001b[2K     \u001b[90m━━━━━━━━━━━━━━━━━━━━━━━━━━━━━━━━━━━━━━━━\u001b[0m \u001b[32m17.7/17.7 MB\u001b[0m \u001b[31m89.2 MB/s\u001b[0m eta \u001b[36m0:00:00\u001b[0m00:01\u001b[0m00:01\u001b[0m\n",
      "\u001b[?25hCollecting cryptography\n",
      "  Downloading cryptography-42.0.5-cp39-abi3-manylinux_2_28_x86_64.whl (4.6 MB)\n",
      "\u001b[2K     \u001b[90m━━━━━━━━━━━━━━━━━━━━━━━━━━━━━━━━━━━━━━━━\u001b[0m \u001b[32m4.6/4.6 MB\u001b[0m \u001b[31m129.9 MB/s\u001b[0m eta \u001b[36m0:00:00\u001b[0m00:01\u001b[0m\n",
      "\u001b[?25hRequirement already satisfied: rich in /usr/local/lib/python3.9/dist-packages (from skypilot-nightly[paperspace]) (13.2.0)\n",
      "Requirement already satisfied: colorama in /usr/local/lib/python3.9/dist-packages (from skypilot-nightly[paperspace]) (0.4.3)\n",
      "Collecting pyyaml!=5.4.*,>3.13\n",
      "  Downloading PyYAML-6.0.1-cp39-cp39-manylinux_2_17_x86_64.manylinux2014_x86_64.whl (738 kB)\n",
      "\u001b[2K     \u001b[90m━━━━━━━━━━━━━━━━━━━━━━━━━━━━━━━━━━━━━\u001b[0m \u001b[32m738.9/738.9 kB\u001b[0m \u001b[31m100.0 MB/s\u001b[0m eta \u001b[36m0:00:00\u001b[0m\n",
      "\u001b[?25hRequirement already satisfied: cachetools in /usr/local/lib/python3.9/dist-packages (from skypilot-nightly[paperspace]) (5.3.0)\n",
      "Requirement already satisfied: tabulate in /usr/local/lib/python3.9/dist-packages (from skypilot-nightly[paperspace]) (0.9.0)\n",
      "Requirement already satisfied: typing-extensions in /usr/local/lib/python3.9/dist-packages (from skypilot-nightly[paperspace]) (4.4.0)\n",
      "Requirement already satisfied: jinja2>=3.0 in /usr/local/lib/python3.9/dist-packages (from skypilot-nightly[paperspace]) (3.1.2)\n",
      "Collecting pendulum\n",
      "  Downloading pendulum-3.0.0-cp39-cp39-manylinux_2_17_x86_64.manylinux2014_x86_64.whl (385 kB)\n",
      "\u001b[2K     \u001b[90m━━━━━━━━━━━━━━━━━━━━━━━━━━━━━━━━━━━━━━\u001b[0m \u001b[32m385.2/385.2 kB\u001b[0m \u001b[31m73.0 MB/s\u001b[0m eta \u001b[36m0:00:00\u001b[0m\n",
      "\u001b[?25hRequirement already satisfied: requests in /usr/local/lib/python3.9/dist-packages (from skypilot-nightly[paperspace]) (2.28.2)\n",
      "Requirement already satisfied: packaging in /usr/local/lib/python3.9/dist-packages (from skypilot-nightly[paperspace]) (23.0)\n",
      "Collecting python-dotenv\n",
      "  Downloading python_dotenv-1.0.1-py3-none-any.whl (19 kB)\n",
      "Requirement already satisfied: filelock>=3.6.0 in /usr/local/lib/python3.9/dist-packages (from skypilot-nightly[paperspace]) (3.9.0)\n",
      "Requirement already satisfied: wheel in /usr/local/lib/python3.9/dist-packages (from skypilot-nightly[paperspace]) (0.35.1)\n",
      "Requirement already satisfied: pandas>=1.3.0 in /usr/local/lib/python3.9/dist-packages (from skypilot-nightly[paperspace]) (1.5.0)\n",
      "Requirement already satisfied: jsonschema in /usr/local/lib/python3.9/dist-packages (from skypilot-nightly[paperspace]) (4.17.3)\n",
      "Requirement already satisfied: networkx in /usr/local/lib/python3.9/dist-packages (from skypilot-nightly[paperspace]) (3.0)\n",
      "Requirement already satisfied: MarkupSafe>=2.0 in /usr/local/lib/python3.9/dist-packages (from jinja2>=3.0->skypilot-nightly[paperspace]) (2.1.2)\n",
      "Requirement already satisfied: pytz>=2020.1 in /usr/local/lib/python3.9/dist-packages (from pandas>=1.3.0->skypilot-nightly[paperspace]) (2022.7.1)\n",
      "Requirement already satisfied: python-dateutil>=2.8.1 in /usr/local/lib/python3.9/dist-packages (from pandas>=1.3.0->skypilot-nightly[paperspace]) (2.8.2)\n",
      "Requirement already satisfied: numpy>=1.20.3 in /usr/local/lib/python3.9/dist-packages (from pandas>=1.3.0->skypilot-nightly[paperspace]) (1.23.4)\n",
      "Requirement already satisfied: wcwidth in /usr/local/lib/python3.9/dist-packages (from PrettyTable>=2.0.0->skypilot-nightly[paperspace]) (0.2.6)\n",
      "Requirement already satisfied: cffi>=1.12 in /usr/local/lib/python3.9/dist-packages (from cryptography->skypilot-nightly[paperspace]) (1.15.1)\n",
      "Requirement already satisfied: pyrsistent!=0.17.0,!=0.17.1,!=0.17.2,>=0.14.0 in /usr/local/lib/python3.9/dist-packages (from jsonschema->skypilot-nightly[paperspace]) (0.19.3)\n",
      "Requirement already satisfied: attrs>=17.4.0 in /usr/local/lib/python3.9/dist-packages (from jsonschema->skypilot-nightly[paperspace]) (18.2.0)\n",
      "Collecting tzdata>=2020.1\n",
      "  Downloading tzdata-2024.1-py2.py3-none-any.whl (345 kB)\n",
      "\u001b[2K     \u001b[90m━━━━━━━━━━━━━━━━━━━━━━━━━━━━━━━━━━━━━━\u001b[0m \u001b[32m345.4/345.4 kB\u001b[0m \u001b[31m58.5 MB/s\u001b[0m eta \u001b[36m0:00:00\u001b[0m\n",
      "\u001b[?25hCollecting time-machine>=2.6.0\n",
      "  Downloading time_machine-2.14.1-cp39-cp39-manylinux_2_5_x86_64.manylinux1_x86_64.manylinux_2_17_x86_64.manylinux2014_x86_64.whl (34 kB)\n",
      "Requirement already satisfied: urllib3<1.27,>=1.21.1 in /usr/local/lib/python3.9/dist-packages (from requests->skypilot-nightly[paperspace]) (1.26.14)\n",
      "Requirement already satisfied: charset-normalizer<4,>=2 in /usr/local/lib/python3.9/dist-packages (from requests->skypilot-nightly[paperspace]) (2.1.1)\n",
      "Requirement already satisfied: certifi>=2017.4.17 in /usr/lib/python3/dist-packages (from requests->skypilot-nightly[paperspace]) (2019.11.28)\n",
      "Requirement already satisfied: idna<4,>=2.5 in /usr/lib/python3/dist-packages (from requests->skypilot-nightly[paperspace]) (2.8)\n",
      "Requirement already satisfied: markdown-it-py<3.0.0,>=2.1.0 in /usr/local/lib/python3.9/dist-packages (from rich->skypilot-nightly[paperspace]) (2.1.0)\n",
      "Requirement already satisfied: pygments<3.0.0,>=2.6.0 in /usr/local/lib/python3.9/dist-packages (from rich->skypilot-nightly[paperspace]) (2.14.0)\n",
      "Requirement already satisfied: pycparser in /usr/local/lib/python3.9/dist-packages (from cffi>=1.12->cryptography->skypilot-nightly[paperspace]) (2.21)\n",
      "Requirement already satisfied: mdurl~=0.1 in /usr/local/lib/python3.9/dist-packages (from markdown-it-py<3.0.0,>=2.1.0->rich->skypilot-nightly[paperspace]) (0.1.2)\n",
      "Requirement already satisfied: six>=1.5 in /usr/lib/python3/dist-packages (from python-dateutil>=2.8.1->pandas>=1.3.0->skypilot-nightly[paperspace]) (1.14.0)\n",
      "Installing collected packages: tzdata, pyyaml, python-dotenv, pulp, PrettyTable, time-machine, cryptography, pendulum, skypilot-nightly\n",
      "  Attempting uninstall: pyyaml\n",
      "    Found existing installation: PyYAML 5.4.1\n",
      "    Uninstalling PyYAML-5.4.1:\n",
      "      Successfully uninstalled PyYAML-5.4.1\n",
      "\u001b[31mERROR: pip's dependency resolver does not currently take into account all the packages that are installed. This behaviour is the source of the following dependency conflicts.\n",
      "gradient 2.0.6 requires PyYAML==5.*, but you have pyyaml 6.0.1 which is incompatible.\n",
      "awscli 1.25.91 requires PyYAML<5.5,>=3.10, but you have pyyaml 6.0.1 which is incompatible.\u001b[0m\u001b[31m\n",
      "\u001b[0mSuccessfully installed PrettyTable-3.10.0 cryptography-42.0.5 pendulum-3.0.0 pulp-2.8.0 python-dotenv-1.0.1 pyyaml-6.0.1 skypilot-nightly-1.0.0.dev20240411 time-machine-2.14.1 tzdata-2024.1\n",
      "\u001b[33mWARNING: Running pip as the 'root' user can result in broken permissions and conflicting behaviour with the system package manager. It is recommended to use a virtual environment instead: https://pip.pypa.io/warnings/venv\u001b[0m\u001b[33m\n",
      "\u001b[0m"
     ]
    }
   ],
   "source": [
    "!pip install \"skypilot-nightly[paperspace]\""
   ]
  },
  {
   "cell_type": "code",
   "execution_count": 2,
   "id": "518f7832-9eca-4893-a8d7-d6d8b65062fd",
   "metadata": {
    "execution": {
     "iopub.execute_input": "2024-04-11T14:03:44.000983Z",
     "iopub.status.busy": "2024-04-11T14:03:44.000711Z",
     "iopub.status.idle": "2024-04-11T14:03:49.109542Z",
     "shell.execute_reply": "2024-04-11T14:03:49.108615Z",
     "shell.execute_reply.started": "2024-04-11T14:03:44.000960Z"
    }
   },
   "outputs": [
    {
     "name": "stdout",
     "output_type": "stream",
     "text": [
      "Looking in indexes: http://mirrors.aliyun.com/pypi/simple\n",
      "Collecting attrs==19.2.0\n",
      "  Downloading http://mirrors.aliyun.com/pypi/packages/6b/e8/2ecaf86b128a34e225807f03b22664302937ab826bd3b7eccab6754d29ea/attrs-19.2.0-py2.py3-none-any.whl (40 kB)\n",
      "\u001b[2K     \u001b[90m━━━━━━━━━━━━━━━━━━━━━━━━━━━━━━━━━━━━━━━━\u001b[0m \u001b[32m40.7/40.7 kB\u001b[0m \u001b[31m10.4 MB/s\u001b[0m eta \u001b[36m0:00:00\u001b[0m\n",
      "\u001b[?25hInstalling collected packages: attrs\n",
      "  Attempting uninstall: attrs\n",
      "    Found existing installation: attrs 18.2.0\n",
      "    Uninstalling attrs-18.2.0:\n",
      "      Successfully uninstalled attrs-18.2.0\n",
      "\u001b[31mERROR: pip's dependency resolver does not currently take into account all the packages that are installed. This behaviour is the source of the following dependency conflicts.\n",
      "gradient 2.0.6 requires attrs<=19, but you have attrs 19.2.0 which is incompatible.\n",
      "gradient 2.0.6 requires PyYAML==5.*, but you have pyyaml 6.0.1 which is incompatible.\u001b[0m\u001b[31m\n",
      "\u001b[0mSuccessfully installed attrs-19.2.0\n",
      "\u001b[33mWARNING: Running pip as the 'root' user can result in broken permissions and conflicting behaviour with the system package manager. It is recommended to use a virtual environment instead: https://pip.pypa.io/warnings/venv\u001b[0m\u001b[33m\n",
      "\u001b[0m"
     ]
    }
   ],
   "source": [
    "!pip3 install attrs==19.2.0 -i http://mirrors.aliyun.com/pypi/simple --trusted-host mirrors.aliyun.com\n"
   ]
  },
  {
   "cell_type": "code",
   "execution_count": 3,
   "id": "9cbc5aa7-c45a-4cc3-9f58-0e437ba10491",
   "metadata": {
    "execution": {
     "iopub.execute_input": "2024-04-11T14:03:54.752140Z",
     "iopub.status.busy": "2024-04-11T14:03:54.751434Z",
     "iopub.status.idle": "2024-04-11T14:03:55.869075Z",
     "shell.execute_reply": "2024-04-11T14:03:55.868155Z",
     "shell.execute_reply.started": "2024-04-11T14:03:54.752110Z"
    }
   },
   "outputs": [],
   "source": [
    "!mkdir -p ~/.paperspace\n",
    "!echo \"{\\\"apiKey\\\":\\\"53e1e40a1c1abc86d70173e4262bb2\\\"}\" > ~/.paperspace/config.json"
   ]
  },
  {
   "cell_type": "code",
   "execution_count": 4,
   "id": "f0bc5c57-ab3e-455b-85a3-105ad3911236",
   "metadata": {
    "execution": {
     "iopub.execute_input": "2024-04-11T14:03:58.874446Z",
     "iopub.status.busy": "2024-04-11T14:03:58.873716Z",
     "iopub.status.idle": "2024-04-11T14:04:00.824197Z",
     "shell.execute_reply": "2024-04-11T14:04:00.823398Z",
     "shell.execute_reply.started": "2024-04-11T14:03:58.874419Z"
    }
   },
   "outputs": [
    {
     "name": "stdout",
     "output_type": "stream",
     "text": [
      "\u001b[33mSkyPilot collects usage data to improve its services. `setup` and `run` commands are not collected to ensure privacy.\n",
      "Usage logging can be disabled by setting the environment variable SKYPILOT_DISABLE_USAGE_COLLECTION=1.\u001b[0m\n",
      "Checking credentials to enable clouds for SkyPilot.\n",
      "  \u001b[2mAWS: disabled\u001b[0m                              \n",
      "    Reason: AWS credentials are not set. Run the following commands:\n",
      "      $ aws configure\n",
      "      $ aws configure list  # Ensure that this shows identity is set.\n",
      "    For more info: https://docs.aws.amazon.com/cli/latest/userguide/cli-configure-quickstart.html\n",
      "    Details: `aws sts get-caller-identity` failed with error: \u001b[1m[botocore.exceptions.NoCredentialsError]\u001b[0m Unable to locate credentials.\n",
      "  \u001b[2mAzure: disabled\u001b[0m                              \n",
      "    Reason: ~/.azure/msal_token_cache.json does not exist. Run the following commands:\n",
      "      $ az login\n",
      "      $ az account set -s <subscription_id>\n",
      "    For more info: https://docs.microsoft.com/en-us/cli/azure/get-started-with-azure-cli\n",
      "  \u001b[2mCloudflare, for R2 object store: disabled\u001b[0m                              \n",
      "    Reason: [r2] profile is not set in ~/.cloudflare/r2.credentials. Additionally, Account ID from R2 dashboard is not set. Run the following commands:\n",
      "      $ pip install boto3\n",
      "      $ AWS_SHARED_CREDENTIALS_FILE=~/.cloudflare/r2.credentials aws configure --profile r2\n",
      "      $ mkdir -p ~/.cloudflare\n",
      "      $ echo <YOUR_ACCOUNT_ID_HERE> > ~/.cloudflare/accountid\n",
      "    For more info: https://skypilot.readthedocs.io/en/latest/getting-started/installation.html#cloudflare-r2\n",
      "  \u001b[2mCudo: disabled\u001b[0m                              \n",
      "    Reason: Cudo tools are not installed. Run the following commands:\n",
      "      $ pip install cudo-compute\n",
      "    \u001b[1m[ModuleNotFoundError]\u001b[0m No module named 'cudo_compute'\n",
      "  \u001b[2mFluidstack: disabled\u001b[0m                              \n",
      "    Reason: Failed to access FluidStack Cloud with credentials. To configure credentials, go to:\n",
      "      https://console.fluidstack.io \n",
      "    to obtain an API key and API Token, then add save the contents to ~/.fluidstack/api_key and ~/.fluidstack/api_token \n",
      "\n",
      "  \u001b[2mGCP: disabled\u001b[0m                              \n",
      "    Reason: GCP tools are not installed. Run the following commands:\n",
      "      $ pip install google-api-python-client\n",
      "      $ conda install -c conda-forge google-cloud-sdk -y\n",
      "    Credentials may also need to be set. Run the following commands:\n",
      "      $ gcloud init\n",
      "      $ gcloud auth application-default login\n",
      "    For more info: https://skypilot.readthedocs.io/en/latest/getting-started/installation.html#google-cloud-platform-gcp\n",
      "    Details: \u001b[1m[ModuleNotFoundError]\u001b[0m No module named 'googleapiclient'\n",
      "  \u001b[2mIBM: disabled\u001b[0m                              \n",
      "    Reason: Missing credential file at /root/.ibm/credentials.yaml.\n",
      "    Store your API key and Resource Group id in ~/.ibm/credentials.yaml in the following format:\n",
      "      iam_api_key: <IAM_API_KEY>\n",
      "      resource_group_id: <RESOURCE_GROUP_ID>\n",
      "  \u001b[2mKubernetes: disabled\u001b[0m                              \n",
      "    Reason: Credentials not found - check if ~/.kube/config exists.\n",
      "  \u001b[2mLambda: disabled\u001b[0m                              \n",
      "    Reason: Failed to access Lambda Cloud with credentials. To configure credentials, go to:\n",
      "      https://cloud.lambdalabs.com/api-keys\n",
      "    to generate API key and add the line\n",
      "      api_key = [YOUR API KEY]\n",
      "    to ~/.lambda_cloud/lambda_keys\n",
      "  \u001b[2mOCI: disabled\u001b[0m                              \n",
      "    Reason: `oci` is not installed. Install it with: pip install oci\n",
      "    For more details, refer to: https://skypilot.readthedocs.io/en/latest/getting-started/installation.html#oracle-cloud-infrastructure-oci\n",
      "  \u001b[32m\u001b[22mPaperspace: enabled\u001b[0m                              \n",
      "  \u001b[2mRunPod: disabled\u001b[0m                              \n",
      "    Reason: Failed to import runpod. To install, run: pip install skypilot[runpod]\n",
      "  \u001b[2mSCP: disabled\u001b[0m                              \n",
      "    Reason: Failed to access SCP with credentials. To configure credentials, see: https://cloud.samsungsds.com/openapiguide\n",
      "    Generate API key and add the following line to ~/.scp/scp_credential:\n",
      "      access_key = [YOUR API ACCESS KEY]\n",
      "      secret_key = [YOUR API SECRET KEY]\n",
      "      project_id = [YOUR PROJECT ID]\n",
      "  \u001b[2mvSphere: disabled\u001b[0m                              \n",
      "    Reason: vSphere dependencies are not installed. Run the following commands:\n",
      "      $ pip install skypilot[vSphere]\n",
      "    Credentials may also need to be set. For more details. See https://skypilot.readthedocs.io/en/latest/getting-started/installation.html#vmware-vsphere\u001b[1m[ModuleNotFoundError]\u001b[0m No module named 'pyVmomi'\n",
      "\u001b[2m\n",
      "To enable a cloud, follow the hints above and rerun: \u001b[0m\u001b[1msky check\u001b[0m\n",
      "\u001b[2mIf any problems remain, refer to detailed docs at: https://skypilot.readthedocs.io/en/latest/getting-started/installation.html\u001b[0m\n",
      "\n",
      "\u001b[32m🎉 Enabled clouds 🎉\u001b[0m\n",
      "\u001b[32m  ✔ Paperspace\u001b[0m\n"
     ]
    }
   ],
   "source": [
    "!sky check"
   ]
  },
  {
   "cell_type": "code",
   "execution_count": 6,
   "id": "315e4aa9-970b-4b51-805c-3bfb0428940a",
   "metadata": {
    "execution": {
     "iopub.execute_input": "2024-04-11T14:11:19.040570Z",
     "iopub.status.busy": "2024-04-11T14:11:19.039942Z",
     "iopub.status.idle": "2024-04-11T14:11:20.610270Z",
     "shell.execute_reply": "2024-04-11T14:11:20.609476Z",
     "shell.execute_reply.started": "2024-04-11T14:11:19.040521Z"
    }
   },
   "outputs": [
    {
     "name": "stdout",
     "output_type": "stream",
     "text": [
      "\u001b[36m\u001b[1mClusters\u001b[0m\n",
      "NAME       LAUNCHED   RESOURCES          STATUS  AUTOSTOP  COMMAND                       \n",
      "mycluster  1 min ago  1x Paperspace(C5)  \u001b[32mUP\u001b[0m      -         sky exec mycluster hello_...  \n",
      "\n",
      "\u001b[36m\u001b[1mManaged spot jobs\u001b[0m\n",
      "\u001b[?25l\u001b[32m⠋\u001b[0m \u001b[36mChecking spot jobs\u001b[0m\n",
      "\u001b[1A\u001b[2KNo in-progress spot jobs. (See: \u001b[1msky spot -h\u001b[0m)\n",
      "\n",
      "\u001b[36m\u001b[1mServices\u001b[0m\n",
      "\u001b[2K\u001b[32m⠋\u001b[0m \u001b[36mChecking services\u001b[0m\n",
      "\u001b[1A\u001b[2KNo live services. (See: \u001b[1msky serve -h\u001b[0m)\n"
     ]
    }
   ],
   "source": [
    "!sky status"
   ]
  }
 ],
 "metadata": {
  "kernelspec": {
   "display_name": "Python 3 (ipykernel)",
   "language": "python",
   "name": "python3"
  },
  "language_info": {
   "codemirror_mode": {
    "name": "ipython",
    "version": 3
   },
   "file_extension": ".py",
   "mimetype": "text/x-python",
   "name": "python",
   "nbconvert_exporter": "python",
   "pygments_lexer": "ipython3",
   "version": "3.9.16"
  }
 },
 "nbformat": 4,
 "nbformat_minor": 5
}
